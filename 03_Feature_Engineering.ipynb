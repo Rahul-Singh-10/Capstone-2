{
  "nbformat": 4,
  "nbformat_minor": 0,
  "metadata": {
    "colab": {
      "name": "03 Feature Engineering.ipynb",
      "provenance": [],
      "collapsed_sections": [],
      "machine_shape": "hm",
      "authorship_tag": "ABX9TyMVnm4cl0MWMIQGT8fj2CSt",
      "include_colab_link": true
    },
    "kernelspec": {
      "name": "python3",
      "display_name": "Python 3"
    },
    "language_info": {
      "name": "python"
    }
  },
  "cells": [
    {
      "cell_type": "markdown",
      "metadata": {
        "id": "view-in-github",
        "colab_type": "text"
      },
      "source": [
        "<a href=\"https://colab.research.google.com/github/Rahul-Singh-10/Google-Analytics-Ecommerce-Predition_Model/blob/main/03_Feature_Engineering.ipynb\" target=\"_parent\"><img src=\"https://colab.research.google.com/assets/colab-badge.svg\" alt=\"Open In Colab\"/></a>"
      ]
    },
    {
      "cell_type": "markdown",
      "source": [
        "### **1. Imports**:\n",
        "1.1 Import needed libaries and parquet file "
      ],
      "metadata": {
        "id": "SkKtweS43ZSc"
      }
    },
    {
      "cell_type": "code",
      "execution_count": null,
      "metadata": {
        "colab": {
          "base_uri": "https://localhost:8080/"
        },
        "id": "1y4Udacq2Wjv",
        "outputId": "9340d970-9811-4e0f-a826-05401c8e90b1"
      },
      "outputs": [
        {
          "output_type": "stream",
          "name": "stdout",
          "text": [
            "Collecting pyspark\n",
            "  Downloading pyspark-3.2.1.tar.gz (281.4 MB)\n",
            "\u001b[K     |████████████████████████████████| 281.4 MB 32 kB/s \n",
            "\u001b[?25hCollecting py4j==0.10.9.3\n",
            "  Downloading py4j-0.10.9.3-py2.py3-none-any.whl (198 kB)\n",
            "\u001b[K     |████████████████████████████████| 198 kB 57.4 MB/s \n",
            "\u001b[?25hBuilding wheels for collected packages: pyspark\n",
            "  Building wheel for pyspark (setup.py) ... \u001b[?25l\u001b[?25hdone\n",
            "  Created wheel for pyspark: filename=pyspark-3.2.1-py2.py3-none-any.whl size=281853642 sha256=5d8e0b94cb44079f72ae47f664d89929347654c8688e3db917c0080fb52f53bc\n",
            "  Stored in directory: /root/.cache/pip/wheels/9f/f5/07/7cd8017084dce4e93e84e92efd1e1d5334db05f2e83bcef74f\n",
            "Successfully built pyspark\n",
            "Installing collected packages: py4j, pyspark\n",
            "Successfully installed py4j-0.10.9.3 pyspark-3.2.1\n"
          ]
        }
      ],
      "source": [
        "!pip install pyspark"
      ]
    },
    {
      "cell_type": "code",
      "source": [
        "import pyspark\n",
        "from pyspark.sql import SparkSession\n",
        "from pyspark.sql import functions as F\n",
        "import random\n",
        "from pyspark.sql.functions import col\n",
        "from pyspark.sql.types import StringType,BooleanType,DateType, StructType\n",
        "from pyspark.sql.functions import split\n",
        "from pyspark.sql.functions import *\n",
        "from pyspark.sql.functions import window\n",
        "import matplotlib.pyplot as plt\n",
        "import seaborn as sns\n",
        "from google.colab import drive\n",
        "import missingno as msno\n",
        "drive.mount('/content/drive')"
      ],
      "metadata": {
        "id": "98rfcJ1W2d5G"
      },
      "execution_count": null,
      "outputs": []
    },
    {
      "cell_type": "code",
      "source": [
        "spark = SparkSession.builder.appName('Project').getOrCreate()\n",
        "spark"
      ],
      "metadata": {
        "id": "SUcAwiqc2d7p"
      },
      "execution_count": null,
      "outputs": []
    },
    {
      "cell_type": "code",
      "source": [
        "df = spark.read.parquet('/content/drive/MyDrive/df.parquet')"
      ],
      "metadata": {
        "id": "y1MtsFs12eAX"
      },
      "execution_count": null,
      "outputs": []
    },
    {
      "cell_type": "code",
      "source": [
        "df.show(n=5)"
      ],
      "metadata": {
        "id": "fbvhMGax2eCr"
      },
      "execution_count": null,
      "outputs": []
    },
    {
      "cell_type": "code",
      "source": [
        "df.select('fullVisitorId').distinct().count()"
      ],
      "metadata": {
        "id": "EjCHMsdk6Ic5"
      },
      "execution_count": null,
      "outputs": []
    },
    {
      "cell_type": "code",
      "source": [
        "df.withColumn('null_indicator',F.when(F.col('fullVisitorId').isNull(),1).otherwise(0)).groupBy('null_indicator').agg(F.count('*')).show()"
      ],
      "metadata": {
        "id": "O3RnPX849BJ1"
      },
      "execution_count": null,
      "outputs": []
    },
    {
      "cell_type": "code",
      "source": [
        "customers = df.sort('fullVisitorId')"
      ],
      "metadata": {
        "id": "RvyfHSKRIuwk"
      },
      "execution_count": null,
      "outputs": []
    },
    {
      "cell_type": "markdown",
      "source": [
        "## DATA TYPE CONVERSION/ FILLING MISSING DATA"
      ],
      "metadata": {
        "id": "VP-PaG2fLkDd"
      }
    },
    {
      "cell_type": "code",
      "source": [
        "from pyspark.sql.types import StringType, BooleanType, IntegerType, DateType,FloatType "
      ],
      "metadata": {
        "id": "i-RoyAjvSVQ0"
      },
      "execution_count": null,
      "outputs": []
    },
    {
      "cell_type": "code",
      "source": [
        "from pyspark.sql.functions import date_format\n",
        "customers = customers.select(\"*\",F.to_date('date','yyyyMMdd').alias('Date_fmt'))"
      ],
      "metadata": {
        "id": "pf-a0OgMcxtj"
      },
      "execution_count": null,
      "outputs": []
    },
    {
      "cell_type": "code",
      "source": [
        "customers = customers.withColumn('bounces',customers.bounces.cast(IntegerType()))\\\n",
        "          .withColumn('hits',customers.hits.cast(IntegerType()))\\\n",
        "          .withColumn('pageviews',customers.pageviews.cast(IntegerType()))\\\n",
        "          .withColumn('visitNumber',customers.visitNumber.cast(IntegerType()))\\\n",
        "          .withColumn('action_type',customers.action_type.cast(IntegerType()))\\\n",
        "          .withColumn('promoIsClick',customers.promoIsClick.cast(BooleanType()))\\\n",
        "          .withColumn('promoIsView',customers.promoIsView.cast(BooleanType()))\\\n",
        "          .withColumn('hasSocialSourceReferral',customers.hasSocialSourceReferral.cast(BooleanType()))\\\n",
        "          .withColumn('socialNetwork',customers.socialNetwork.cast(BooleanType()))\\\n",
        "          .withColumn('timeOnSite',customers.timeOnSite.cast(FloatType()))\\\n",
        "          .withColumn('domContentLoadedTime',customers.domContentLoadedTime.cast(FloatType()))\\\n",
        "          .withColumn('domInteractiveTime',customers.domInteractiveTime.cast(FloatType()))\\\n",
        "          .withColumn('domainLookupTime',customers.domainLookupTime.cast(FloatType()))\\\n",
        "          .withColumn('redirectionTime',customers.redirectionTime.cast(FloatType()))\\\n",
        "          .withColumn('serverResponseTime',customers.serverResponseTime.cast(FloatType()))\\\n",
        "          .withColumn('isClick',customers.isClick.cast('int'))\\\n",
        "          .withColumn('totalTransactionRevenue',customers.totalTransactionRevenue.cast('int'))\\\n",
        "          .withColumn('transactions',customers.transactions.cast('int'))\\\n"
      ],
      "metadata": {
        "id": "h77hwhKG4xcg"
      },
      "execution_count": null,
      "outputs": []
    },
    {
      "cell_type": "code",
      "source": [
        "customers.select('fullVisitorId').distinct().count()"
      ],
      "metadata": {
        "colab": {
          "base_uri": "https://localhost:8080/"
        },
        "id": "5YhUC-d8YIKG",
        "outputId": "35c11844-0e58-464d-8020-76a9db59b73d"
      },
      "execution_count": null,
      "outputs": [
        {
          "output_type": "execute_result",
          "data": {
            "text/plain": [
              "714167"
            ]
          },
          "metadata": {},
          "execution_count": 14
        }
      ]
    },
    {
      "cell_type": "code",
      "source": [
        "customers.select('*').show()"
      ],
      "metadata": {
        "id": "OgNsHxXisbFw"
      },
      "execution_count": null,
      "outputs": []
    },
    {
      "cell_type": "code",
      "source": [
        "nafiller = ['bounces','pageviews','timeOnSite','totalTransactionRevenue','transactions','domContentLoadedTime','domInteractiveTime','domainLookuptime','redirectionTime','serverResponseTime','isClick']\n",
        "\n",
        "customers = customers.fillna(0,subset=nafiller)"
      ],
      "metadata": {
        "id": "VezaLuljb7qr"
      },
      "execution_count": null,
      "outputs": []
    },
    {
      "cell_type": "code",
      "source": [
        "customers = customers.drop('date','operatingSystem','medium','source','localProductPrice', 'localProductRevenue', 'productBrand','productListName', 'productListPosition','productSKU', 'exitScreenName','landingScreenName', 'contentGroupUniqueViews1','contentGroupUniqueViews2', 'contentGroupUniqueViews3', 'hasSocialSourceReferral', 'socialNetwork','referralPath','adContent','productPrice','productQuantity','productRevenue','eventLabel','eventCategory','isTrueDirect','isImpression')\n",
        "customers.printSchema()"
      ],
      "metadata": {
        "id": "8evSLGB2g29d"
      },
      "execution_count": null,
      "outputs": []
    },
    {
      "cell_type": "code",
      "source": [
        "customers = customers.withColumn('isClick',regexp_replace('isClick','true','1'))\n",
        "\n",
        "customers.select('isClick').distinct().show()"
      ],
      "metadata": {
        "id": "WvbfrRNeOhA7"
      },
      "execution_count": null,
      "outputs": []
    },
    {
      "cell_type": "code",
      "source": [
        "customers = customers.fillna('Unknown',subset='eventAction')"
      ],
      "metadata": {
        "id": "gbca6YKjXAgW"
      },
      "execution_count": null,
      "outputs": []
    },
    {
      "cell_type": "code",
      "source": [
        "customers = customers.withColumn('domain_total',F.col('domContentLoadedTime') + F.col('domInteractiveTime') + F.col('domainLookupTime') + F.col('redirectionTime'))"
      ],
      "metadata": {
        "id": "0Nw1jw2YPW9y"
      },
      "execution_count": null,
      "outputs": []
    },
    {
      "cell_type": "markdown",
      "source": [
        "## Feature Engineering: Aggregation  \n",
        "Create window functions to overlook and look back past 30 days to create a churn field indicated by 1 or 0. This will show whether user churned away from the platform or is a returning customer."
      ],
      "metadata": {
        "id": "nXLIAiSBRmeP"
      }
    },
    {
      "cell_type": "code",
      "source": [
        "from pyspark.sql.window import Window\n",
        "from pyspark.sql.functions import days"
      ],
      "metadata": {
        "id": "LsOzOv_63sIA"
      },
      "execution_count": null,
      "outputs": []
    },
    {
      "cell_type": "code",
      "source": [
        "wp30d = Window.partitionBy('fullVisitorId').orderBy(F.unix_timestamp(F.col('Date_fmt'))/864000).rangeBetween(-30,-1)\n",
        "wp15d = Window.partitionBy('fullVisitorId').orderBy(F.unix_timestamp(F.col('Date_fmt'))/864000).rangeBetween(-15,-1)\n",
        "wp7d = Window.partitionBy('fullVisitorId').orderBy(F.unix_timestamp(F.col('Date_fmt'))/864000).rangeBetween(-7,-1)\n",
        "wp3d = Window.partitionBy('fullVisitorId').orderBy(F.unix_timestamp(F.col('Date_fmt'))/864000).rangeBetween(-3,-1)\n",
        "wpF30d = Window.partitionBy('fullVisitorId').orderBy(F.unix_timestamp(F.col('Date_fmt'))/864000).rangeBetween(1,30)\n",
        "wpF15d = Window.partitionBy('fullVisitorId').orderBy(F.unix_timestamp(F.col('Date_fmt'))/864000).rangeBetween(1,15)"
      ],
      "metadata": {
        "id": "QsNx7VcQ2A2T"
      },
      "execution_count": null,
      "outputs": []
    },
    {
      "cell_type": "code",
      "source": [
        "customers = customers.withColumn('isClick',customers.isClick.cast('int'))"
      ],
      "metadata": {
        "id": "6oM_UF44fhdU"
      },
      "execution_count": null,
      "outputs": []
    },
    {
      "cell_type": "code",
      "source": [
        "customers = customers.withColumn('pageviews_L30d',F.sum('pageviews').over(wp30d))\\\n",
        "                      .withColumn('pageviews_L15d',F.sum('pageviews').over(wp15d))\\\n",
        "                      .withColumn('pageviews_L7d',F.sum('pageviews').over(wp7d))\\\n",
        "                      .withColumn('pageviews_L3d',F.sum('pageviews').over(wp3d))\\\n",
        "                      .withColumn('pageviews_D30d15d',F.col('pageviews_L30d') - F.col('pageviews_L15d'))\\\n",
        "                      .withColumn('pageviews_R30d15d',F.col('pageviews_L30d') / F.col('pageviews_L15d'))\\\n",
        "                      .withColumn('clicks_L30d',F.sum('isClick').over(wp30d))\\\n",
        "                      .withColumn('clicks_L15d',F.sum('isClick').over(wp15d))\\\n",
        "                      .withColumn('clicks_D30d15d',F.col('clicks_L30d') - F.col('clicks_L15d'))\\\n",
        "                      .withColumn('clicks_R30d15d',F.col('clicks_L30d') / F.col('clicks_L15d'))\\\n",
        "                      .withColumn('avgsession_L30d',F.mean('timeOnSite').over(wp30d))\\\n",
        "                      .withColumn('avgsession_L15d',F.mean('timeOnSite').over(wp15d))\\\n",
        "                      .withColumn('avgsession_D30d15d',F.col('avgsession_L30d') - F.col('avgsession_L15d'))\\\n",
        "                      .withColumn('avgsession_R30d15d',F.col('avgsession_L30d') / F.col('avgsession_L15d'))\\\n",
        "                      .withColumn('avgbrowstime_L30d',F.sum('pageviews_L30d').over(wp30d) / F.col('avgsession_L30d'))\\\n",
        "                      .withColumn('avgbrowstime_L15d',F.sum('pageviews_L15d').over(wp30d) / F.col('avgsession_L15d'))\\\n",
        "                      .withColumn('avgbrowstime_D30d15d', F.col('avgbrowstime_L30d') - F.col('avgbrowstime_L15d'))\\\n",
        "                      .withColumn('avgbrowstime_R30d15d',F.col('avgbrowstime_L30d') / F.col('avgbrowstime_L15d'))\\\n",
        "                      .withColumn('avgserverdelay_L30d',F.sum('serverResponseTime').over(wp30d) / F.col('avgsession_L30d'))\\\n",
        "                      .withColumn('avgserverdelay_L15d',F.sum('serverResponseTime').over(wp15d) / F.col('avgsession_L15d'))\\\n",
        "                      .withColumn('avgserverdelay_D30d15d',F.col('avgserverdelay_L30d') - F.col('avgserverdelay_L15d'))\\\n",
        "                      .withColumn('avgserverdelay_R30d15d',F.col('avgserverdelay_L30d') / F.col('avgserverdelay_L15d'))\\\n",
        "                      .withColumn('avgdomaintime_L30d',F.sum('domain_total').over(wp30d) / F.col('avgsession_L30d'))\\\n",
        "                      .withColumn('avgdomaintime_L15d',F.sum('domain_total').over(wp15d) / F.col('avgsession_L15d'))\\\n",
        "                      .withColumn('avgdomaintime_D30d15d',F.col('avgdomaintime_L30d') - F.col('avgdomaintime_L15d'))\\\n",
        "                      .withColumn('avgdomaintime_R30d15d',F.col('avgdomaintime_L30d') / F.col('avgdomaintime_L15d'))\\\n",
        "                      .withColumn('avg$_L30d',F.sum('totalTransactionRevenue').over(wp30d) / F.sum('transactions').over(wp30d))\\\n",
        "                      .withColumn('avg$_L15d',F.sum('totalTransactionRevenue').over(wp15d) / F.sum('transactions').over(wp15d))\\\n",
        "                      .withColumn('avg$_D30d15d',F.col('avg$_L30d') - F.col('avg$_L15d'))\\\n",
        "                      .withColumn('avg$_R30d15d',F.col('avg$_L30d') / F.col('avg$_L15d'))\\\n",
        "                      .withColumn('Maxsession_durationL30d',F.max('timeOnSite').over(wp30d))\\\n",
        "                      .withColumn('Maxsession_durationL15d',F.max('timeOnSite').over(wp15d))\\\n",
        "        "
      ],
      "metadata": {
        "id": "OlueOfFcxbZn"
      },
      "execution_count": null,
      "outputs": []
    },
    {
      "cell_type": "markdown",
      "source": [
        "# Hot Encoding\n",
        "Encode Categorical Variables to Numerical columns as the model will only work on numerical values not booleans.\n"
      ],
      "metadata": {
        "id": "j9YdBjvjlw6f"
      }
    },
    {
      "cell_type": "code",
      "source": [
        "dis_cg = customers.select('channelGrouping').distinct().rdd.flatMap(lambda x:x).collect()\n",
        "dis_ea = customers.select('eventAction').distinct().rdd.flatMap(lambda x:x).collect()\n",
        "dis_dc = customers.select('deviceCategory').distinct().rdd.flatMap(lambda x:x).collect()"
      ],
      "metadata": {
        "id": "EMvJ9kazVMwO"
      },
      "execution_count": null,
      "outputs": []
    },
    {
      "cell_type": "code",
      "source": [
        "print(dis_dc)\n",
        "print(dis_cg)\n",
        "print(dis_ea)"
      ],
      "metadata": {
        "colab": {
          "base_uri": "https://localhost:8080/"
        },
        "id": "BqeDlJfvrsdw",
        "outputId": "86e39d5a-c893-4c80-8de6-d447743a1d4f"
      },
      "execution_count": null,
      "outputs": [
        {
          "output_type": "stream",
          "name": "stdout",
          "text": [
            "['desktop', 'mobile', 'tablet']\n",
            "['Display', 'Affiliates', 'Social', 'Direct', 'Referral', '(Other)', 'Paid Search', 'Organic Search']\n",
            "['Product Click', 'Add to Cart', 'Unknown', 'Remove from Cart', 'Quickview Click', 'Onsite Click', 'Promotion Click']\n"
          ]
        }
      ]
    },
    {
      "cell_type": "code",
      "source": [
        "from pyspark.sql.functions import udf, col"
      ],
      "metadata": {
        "id": "gsOLQarLlr31"
      },
      "execution_count": null,
      "outputs": []
    },
    {
      "cell_type": "code",
      "source": [
        "for uniqval in dis_cg:\n",
        "  func = udf(lambda item: 1 if item == uniqval else 0, IntegerType())\n",
        "  new_col = 'channelGrouping' + '_' + uniqval\n",
        "  customers = customers.withColumn(new_col,func(customers.channelGrouping))\n",
        "\n",
        "\n",
        "for uniqval1 in dis_ea:\n",
        "  func1 = udf(lambda item: 1 if item == uniqval1 else 0, IntegerType())\n",
        "  new_col1 = 'eventAction' + '_' + uniqval1\n",
        "  customers = customers.withColumn(new_col1,func1(col('eventAction')))  \n",
        "\n",
        "for uniqval2 in dis_dc:\n",
        "  func2 = udf(lambda item: 1 if item == uniqval2 else 0, IntegerType())\n",
        "  new_col2 = 'deviceCategory' + '_' + uniqval2\n",
        "  customers = customers.withColumn(new_col2,func2(col('deviceCategory')))  \n",
        "\n",
        "\n",
        "#customers.show()"
      ],
      "metadata": {
        "id": "_FLA-lv5TECK"
      },
      "execution_count": null,
      "outputs": []
    },
    {
      "cell_type": "code",
      "source": [
        "customers = customers.withColumn('channelGrouping_Display_L30d',F.sum('channelGrouping_Display').over(wp30d))\\\n",
        "                      .withColumn('channelGrouping_Display_L15d',F.sum('channelGrouping_Display').over(wp15d))\\\n",
        "                      .withColumn('channelGrouping_Affiliates_L30d',F.sum('channelGrouping_Affiliates').over(wp30d))\\\n",
        "                      .withColumn('channelGrouping_Affiliates_L15d',F.sum('channelGrouping_Affiliates').over(wp15d))\\\n",
        "                      .withColumn('channelGrouping_Social_L30d',F.sum('channelGrouping_Social').over(wp30d))\\\n",
        "                      .withColumn('channelGrouping_Social_L15d',F.sum('channelGrouping_Social').over(wp15d))\\\n",
        "                      .withColumn('channelGrouping_Direct_L30d',F.sum('channelGrouping_Direct').over(wp30d))\\\n",
        "                      .withColumn('channelGrouping_Direct_L15d',F.sum('channelGrouping_Direct').over(wp15d))\\\n",
        "                      .withColumn('channelGrouping_Referral_L30d',F.sum('channelGrouping_Referral').over(wp30d))\\\n",
        "                      .withColumn('channelGrouping_Referral_L15d',F.sum('channelGrouping_Referral').over(wp15d))\\\n",
        "                      .withColumn('channelGrouping_Other_L30d',F.sum('channelGrouping_(Other)').over(wp30d))\\\n",
        "                      .withColumn('channelGrouping_Other_L15d',F.sum('channelGrouping_(Other)').over(wp15d))\\\n",
        "                      .withColumn('channelGrouping_Paid_Search_L30d',F.sum('channelGrouping_Paid Search').over(wp30d))\\\n",
        "                      .withColumn('channelGrouping_Paid_Search_L15d',F.sum('channelGrouping_Paid Search').over(wp15d))\\\n",
        "                      .withColumn('channelGrouping_Organic_Search_L30d',F.sum('channelGrouping_Organic Search').over(wp30d))\\\n",
        "                      .withColumn('channelGrouping_Organic_Search_L15d',F.sum('channelGrouping_Organic Search').over(wp15d))\\\n",
        "                      .withColumn('eventAction_Product_Click_L30d',F.sum('eventAction_Product Click').over(wp30d))\\\n",
        "                      .withColumn('eventAction_Product_Click_L15d',F.sum('eventAction_Product Click').over(wp15d))\\\n",
        "                      .withColumn('eventAction_Add_to_Cart_L30d',F.sum('eventAction_Add to Cart').over(wp30d))\\\n",
        "                      .withColumn('eventAction_Add_to_Cart_L15d',F.sum('eventAction_Add to Cart').over(wp15d))\\\n",
        "                      .withColumn('eventAction_Unknown_L30d',F.sum('eventAction_Unknown').over(wp30d))\\\n",
        "                      .withColumn('eventAction_Unknown_L15d',F.sum('eventAction_Unknown').over(wp15d))\\\n",
        "                      .withColumn('eventAction_Remove_from_Cart_L30d',F.sum('eventAction_Remove from Cart').over(wp30d))\\\n",
        "                      .withColumn('eventAction_Remove_from_Cart_L15d',F.sum('eventAction_Remove from Cart').over(wp15d))\\\n",
        "                      .withColumn('eventAction_Quickview_Click_L30d',F.sum('eventAction_Quickview Click').over(wp30d))\\\n",
        "                      .withColumn('eventAction_Quickview_Click_L15d',F.sum('eventAction_Quickview Click').over(wp15d))\\\n",
        "                      .withColumn('eventAction_Onsite_Click_L30d',F.sum('eventAction_Onsite Click').over(wp30d))\\\n",
        "                      .withColumn('eventAction_Onsite_Click_L15d',F.sum('eventAction_Onsite Click').over(wp15d))\\\n",
        "                      .withColumn('eventAction_Promotion_Click_L30d',F.sum('eventAction_Promotion Click').over(wp30d))\\\n",
        "                      .withColumn('eventAction_Promotion_Click_L15d',F.sum('eventAction_Promotion Click').over(wp15d))\\\n",
        "                      .withColumn('deviceCategory_desktop_L30d',F.sum('deviceCategory_desktop').over(wp30d))\\\n",
        "                      .withColumn('deviceCategory_desktop_L15d',F.sum('deviceCategory_desktop').over(wp15d))\\\n",
        "                      .withColumn('deviceCategory_mobile_L30d',F.sum('deviceCategory_mobile').over(wp30d))\\\n",
        "                      .withColumn('deviceCategory_mobile_L15d',F.sum('deviceCategory_mobile').over(wp15d))\\\n",
        "                      .withColumn('deviceCategory_tablet_L30d',F.sum('deviceCategory_tablet').over(wp30d))\\\n",
        "                      .withColumn('deviceCategory_tablet_L15d',F.sum('deviceCategory_tablet').over(wp15d))\\\n",
        "                      .withColumn('visitFreq_L30d',F.max('visitNumber').over(wp30d))\\\n",
        "                      .withColumn('visitFreq_L15d',F.max('visitNumber').over(wp15d))\\\n",
        "                      .withColumn('visitFreq_N30d',F.max('visitNumber').over(wpF30d))\\\n",
        "                      .withColumn('visitFreq_N15d',F.max('visitNumber').over(wpF15d))\\\n",
        "                      .withColumn('Churn_$30d',(F.when(F.sum('totalTransactionRevenue').over(wpF30d)>0,0).otherwise(1)))\\\n",
        "                      .withColumn('Churn_$15d',(F.when(F.sum('totalTransactionRevenue').over(wpF15d)>0,0).otherwise(1)))\\\n",
        "                      .withColumn('prev_date',F.lag('Date_fmt').over(Window.partitionBy(\"fullVisitorID\").orderBy('Date_fmt')))\\\n",
        "                      .withColumn('time_lastvisit',F.datediff(F.col('Date_fmt'),F.col('prev_date')))\\\n",
        "                      .withColumn('visit_capture',F.size(F.collect_set('visitID').over(wpF30d)))\\\n",
        "                      .withColumn('Churn_vc30d',F.when(F.col('visit_capture')>1,0).otherwise(1))\\\n",
        "                      .withColumn('Churn_vf30d',F.when(F.col('visitFreq_N30d')>1,0).otherwise(1))"
      ],
      "metadata": {
        "id": "UooH00i5wWkb"
      },
      "execution_count": null,
      "outputs": []
    },
    {
      "cell_type": "code",
      "source": [
        "customers.groupBy('Churn_vc30d').agg(F.count('*')).show()#1 is churn and 0 is stay ; error in feature"
      ],
      "metadata": {
        "id": "k3oAkV3uBTdU"
      },
      "execution_count": null,
      "outputs": []
    },
    {
      "cell_type": "code",
      "source": [
        "customers.groupBy('Churn_vf30d').agg(F.count('*')).show()"
      ],
      "metadata": {
        "id": "4h5rEVDfDevJ"
      },
      "execution_count": null,
      "outputs": []
    },
    {
      "cell_type": "code",
      "source": [
        "customers.filter(F.col('fullVisitorId') == '0824839726118485274').select('fullVisitorId','Date_fmt','prev_date','time_lastvisit','visit_capture','Churn_vc30d').show()"
      ],
      "metadata": {
        "id": "1Bi70nGmU3ez"
      },
      "execution_count": null,
      "outputs": []
    },
    {
      "cell_type": "code",
      "source": [
        "customers.groupby('time_lastvisit').agg(F.count('*').alias('CIP')).orderBy(F.col('CIP').desc()).show()"
      ],
      "metadata": {
        "id": "F611FoV--mGf"
      },
      "execution_count": null,
      "outputs": []
    },
    {
      "cell_type": "code",
      "source": [
        "customers.select('*').groupBy('fullVisitorID').agg(F.max('visitNumber')).show()"
      ],
      "metadata": {
        "id": "BB69RiTHPn5E"
      },
      "execution_count": null,
      "outputs": []
    },
    {
      "cell_type": "code",
      "source": [
        "customers = customers.drop('channelGrouping',\n",
        " 'deviceCategory',\n",
        " 'country',\n",
        " 'newVisits',\n",
        " 'pageviews',\n",
        " 'timeOnSite',\n",
        " 'totalTransactionRevenue',\n",
        " 'transactions',\n",
        " 'visitStartTime',\n",
        " 'isClick',\n",
        " 'action_type',\n",
        " 'eventAction',\n",
        " 'isFatal',\n",
        " 'domContentLoadedTime',\n",
        " 'domInteractiveTime',\n",
        " 'domainLookupTime',\n",
        " 'redirectionTime',\n",
        " 'serverResponseTime',\n",
        " 'promoIsClick',\n",
        " 'promoIsView',\n",
        " 'channelGrouping_(Other)',\n",
        " 'channelGrouping_Paid Search',\n",
        " 'channelGrouping_Organic Search',\n",
        " 'eventAction_Product Click',\n",
        " 'eventAction_Add to Cart',\n",
        " 'eventAction_Remove from Cart',\n",
        " 'eventAction_Quickview Click',\n",
        " 'eventAction_Onsite Click',\n",
        " 'eventAction_Promotion Click')"
      ],
      "metadata": {
        "id": "MOyJhftAlny0"
      },
      "execution_count": null,
      "outputs": []
    },
    {
      "cell_type": "markdown",
      "source": [
        "## Final Dataset to parquet file for saving"
      ],
      "metadata": {
        "id": "5Q-0jrXhw3Mi"
      }
    },
    {
      "cell_type": "code",
      "source": [
        "customers.write.parquet('/content/drive/MyDrive/finaldf1.parquet',mode='overwrite')"
      ],
      "metadata": {
        "id": "gbGyRwfT6pyI"
      },
      "execution_count": null,
      "outputs": []
    },
    {
      "cell_type": "code",
      "source": [
        "import pandas as pd\n",
        "from sklearn.preprocessing import MinMaxScaler\n",
        "from sklearn.preprocessing import StandardScaler"
      ],
      "metadata": {
        "id": "B-jMV0AGctGH"
      },
      "execution_count": null,
      "outputs": []
    },
    {
      "cell_type": "code",
      "source": [
        "df = pd.read_parquet('/content/drive/MyDrive/finaldf1.parquet')\n",
        "pd.set_option(\"display.max_columns\", None)"
      ],
      "metadata": {
        "id": "T-2cGwg-cn6p"
      },
      "execution_count": null,
      "outputs": []
    },
    {
      "cell_type": "code",
      "source": [
        "df.dtypes"
      ],
      "metadata": {
        "id": "Ldhxqr8UjPFt"
      },
      "execution_count": null,
      "outputs": []
    },
    {
      "cell_type": "code",
      "source": [
        "df['Date_fmt'] = pd.to_datetime(df['Date_fmt'])"
      ],
      "metadata": {
        "id": "HYw3aAIaknGK"
      },
      "execution_count": null,
      "outputs": []
    },
    {
      "cell_type": "code",
      "source": [
        "df = df[df['Date_fmt'] > '2016-08-31'].set_index('Date_fmt').fillna(-9999)"
      ],
      "metadata": {
        "id": "P2rGfs2lkSS2"
      },
      "execution_count": null,
      "outputs": []
    },
    {
      "cell_type": "code",
      "source": [
        "df.fullVisitorId.value_counts()"
      ],
      "metadata": {
        "id": "xjZ0f3IOrMzr"
      },
      "execution_count": null,
      "outputs": []
    },
    {
      "cell_type": "code",
      "source": [
        "df[df.fullVisitorId == '0069905060737267712']"
      ],
      "metadata": {
        "id": "yEcMJGSBrUYo"
      },
      "execution_count": null,
      "outputs": []
    },
    {
      "cell_type": "code",
      "source": [
        "df[df.fullVisitorId == '0001059349366430257']"
      ],
      "metadata": {
        "id": "TUnR7nTkPYAR"
      },
      "execution_count": null,
      "outputs": []
    },
    {
      "cell_type": "code",
      "source": [
        "df[df.fullVisitorId == '999583991723927576']"
      ],
      "metadata": {
        "id": "6ouPGIaPTO1I"
      },
      "execution_count": null,
      "outputs": []
    }
  ]
}